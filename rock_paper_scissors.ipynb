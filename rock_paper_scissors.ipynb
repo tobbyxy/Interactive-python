{
 "cells": [
  {
   "cell_type": "code",
   "execution_count": 70,
   "id": "f9234ec6",
   "metadata": {},
   "outputs": [
    {
     "data": {
      "text/plain": [
       "'C:\\\\Users\\\\tobia'"
      ]
     },
     "execution_count": 70,
     "metadata": {},
     "output_type": "execute_result"
    }
   ],
   "source": [
    "pwd"
   ]
  },
  {
   "cell_type": "markdown",
   "id": "354e5a13",
   "metadata": {},
   "source": [
    "def number_to_name(number):\n",
    "    names = [\"rock\", \"spock\", \"paper\", \"lizard\"]\n",
    "    \n",
    "    if number >= 0 & number < len(names):\n",
    "        name = names[number]\n",
    "        return name\n",
    "    else:\n",
    "        print(\"Invalid name\")\n"
   ]
  },
  {
   "cell_type": "code",
   "execution_count": 55,
   "id": "6ad1b7e3",
   "metadata": {},
   "outputs": [],
   "source": [
    "def name_to_number(name):\n",
    "    names = [\"rock\", \"spock\", \"paper\", \"lizard\"]\n",
    "    \n",
    "    if name in names:\n",
    "        number = names.index(name)\n",
    "        return number\n",
    "    else:\n",
    "        print(\"Invalid name\")"
   ]
  },
  {
   "cell_type": "code",
   "execution_count": 68,
   "id": "c5369745",
   "metadata": {},
   "outputs": [],
   "source": [
    "import random\n",
    "\n",
    "\n",
    "def rpsls(player_choice):\n",
    "    \n",
    "    #print(\"Player chooses\" +\" \"+ player_choice)\n",
    "    player_number = name_to_number(player_choice)\n",
    "    comp_number = random.randrange(0, 4)\n",
    "    comp_choice = number_to_name(comp_number)\n",
    "    #return comp_choice\n",
    "    print(\"Player chooses\" ,player_choice)\n",
    "    print(\"Computer chooses\",comp_choice)\n",
    "    \n",
    "    #rules\n",
    "    #if differnce = 0 , tie\n",
    "    #if differnce is 1 or 2 player wins\n",
    "    #if difference is 3 or 4 computer wins\n",
    "    #beat counter clock wise oppononents\n",
    "    #lose to clock wise opponents\n",
    "    \n",
    "    diff = comp_number - player_number\n",
    "    diff = diff % 5\n",
    "    if diff == 0:\n",
    "        print(\"There is a tie\")\n",
    "    elif diff == 1 or diff == 2:\n",
    "        print(\"Player wins\")\n",
    "    else:\n",
    "        print(\"Computer wins\")\n",
    "    \n",
    "    return diff"
   ]
  },
  {
   "cell_type": "code",
   "execution_count": 69,
   "id": "e39c354a",
   "metadata": {},
   "outputs": [
    {
     "name": "stdout",
     "output_type": "stream",
     "text": [
      "Player chooses paper\n",
      "Computer chooses spock\n",
      "Computer wins\n"
     ]
    },
    {
     "data": {
      "text/plain": [
       "4"
      ]
     },
     "execution_count": 69,
     "metadata": {},
     "output_type": "execute_result"
    }
   ],
   "source": [
    "rpsls(\"paper\")"
   ]
  },
  {
   "cell_type": "code",
   "execution_count": null,
   "id": "8c8eddca",
   "metadata": {},
   "outputs": [],
   "source": []
  }
 ],
 "metadata": {
  "kernelspec": {
   "display_name": "Python 3 (ipykernel)",
   "language": "python",
   "name": "python3"
  },
  "language_info": {
   "codemirror_mode": {
    "name": "ipython",
    "version": 3
   },
   "file_extension": ".py",
   "mimetype": "text/x-python",
   "name": "python",
   "nbconvert_exporter": "python",
   "pygments_lexer": "ipython3",
   "version": "3.11.4"
  }
 },
 "nbformat": 4,
 "nbformat_minor": 5
}
